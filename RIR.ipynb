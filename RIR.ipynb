{
 "cells": [
  {
   "cell_type": "code",
   "execution_count": 6,
   "metadata": {},
   "outputs": [],
   "source": [
    "import os\n",
    "import numpy as np\n",
    "import matplotlib.pyplot as plt\n",
    "from scipy.io import wavfile\n",
    "from scipy.signal import fftconvolve\n",
    "import IPython\n",
    "import pyroomacoustics as pra\n",
    "import soundfile as sf\n",
    "import shutil\n",
    "from pathlib import Path\n"
   ]
  },
  {
   "cell_type": "code",
   "execution_count": 7,
   "metadata": {},
   "outputs": [],
   "source": [
    "def apply_rir(input_wav, corners, output_path):\n",
    "    # Read WAV file\n",
    "    fs, signal = wavfile.read(input_wav)\n",
    "    \n",
    "    # Create room and set parameters\n",
    "    room = pra.Room.from_corners(corners, fs=fs, max_order=3, materials=pra.Material(0.2, 0.15), ray_tracing=True, air_absorption=True)\n",
    "    room.extrude(2., materials=pra.Material(0.2, 0.15))\n",
    "    room.set_ray_tracing(receiver_radius=0.5, n_rays=10000, energy_thres=1e-5)\n",
    "    \n",
    "    # Add source and microphone\n",
    "    room.add_source([1.0, 2.0, 1.0], signal=signal)\n",
    "    R = np.array([[2.95, 3.05], [2.0, 2.0], [0.5,  0.5]])  # [[x], [y], [z]]\n",
    "    room.add_microphone(R)\n",
    "    \n",
    "    # Simulate room\n",
    "    room.image_source_model()\n",
    "    room.simulate()\n",
    "    \n",
    "    # Save the processed audio to the output path\n",
    "    wavfile.write(output_path, fs, room.mic_array.signals[0, :])\n"
   ]
  },
  {
   "cell_type": "code",
   "execution_count": 8,
   "metadata": {},
   "outputs": [],
   "source": [
    "def convert_flac_to_wav_and_back(input_flac, output_flac, corners):\n",
    "    # Temporary file paths\n",
    "    temp_wav = input_flac.replace('.flac', '.wav')\n",
    "    processed_wav = temp_wav.replace('.wav', '_processed.wav')\n",
    "    \n",
    "    # Read FLAC file\n",
    "    signal, fs = sf.read(input_flac)\n",
    "    \n",
    "    # Write to temporary WAV file\n",
    "    wavfile.write(temp_wav, fs, signal)\n",
    "    \n",
    "    # Apply RIR to the WAV file\n",
    "    apply_rir(temp_wav, corners, processed_wav)\n",
    "    \n",
    "    # Read the processed WAV file\n",
    "    processed_signal, fs = sf.read(processed_wav)\n",
    "    \n",
    "    # Write to the output FLAC file\n",
    "    sf.write(output_flac, processed_signal, fs)\n",
    "    \n",
    "    # Remove temporary files\n",
    "    os.remove(temp_wav)\n",
    "    os.remove(processed_wav)\n"
   ]
  },
  {
   "cell_type": "code",
   "execution_count": 9,
   "metadata": {},
   "outputs": [],
   "source": [
    "def process_all_flac_files(base_dir, corners):\n",
    "    for root, dirs, files in os.walk(base_dir):\n",
    "        for file in files:\n",
    "            if file.endswith('.flac'):\n",
    "                input_flac = os.path.join(root, file)\n",
    "                relative_path = os.path.relpath(input_flac, base_dir)\n",
    "                output_flac = os.path.join(base_dir, 'processed', relative_path)\n",
    "                \n",
    "                # Ensure output directory exists\n",
    "                os.makedirs(os.path.dirname(output_flac), exist_ok=True)\n",
    "                \n",
    "                # Process the file\n",
    "                convert_flac_to_wav_and_back(input_flac, output_flac, corners)\n",
    "\n",
    "# Define the corners of the room\n",
    "corners = np.array([[0,0], [0,4], [5,4], [5,0]]).T  # [x,y]\n",
    "\n",
    "# Define the base directory containing the FLAC files\n",
    "base_dir = '/home/kuzurman/v-cloaka/flac'\n",
    "\n",
    "# Process all FLAC files\n",
    "process_all_flac_files(base_dir, corners)\n"
   ]
  },
  {
   "cell_type": "code",
   "execution_count": null,
   "metadata": {},
   "outputs": [],
   "source": []
  }
 ],
 "metadata": {
  "kernelspec": {
   "display_name": "vcloak",
   "language": "python",
   "name": "python3"
  },
  "language_info": {
   "codemirror_mode": {
    "name": "ipython",
    "version": 3
   },
   "file_extension": ".py",
   "mimetype": "text/x-python",
   "name": "python",
   "nbconvert_exporter": "python",
   "pygments_lexer": "ipython3",
   "version": "3.9.19"
  }
 },
 "nbformat": 4,
 "nbformat_minor": 2
}
